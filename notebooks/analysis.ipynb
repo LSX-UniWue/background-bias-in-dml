{
 "cells": [
  {
   "cell_type": "code",
   "execution_count": 1,
   "metadata": {},
   "outputs": [
    {
     "name": "stderr",
     "output_type": "stream",
     "text": [
      "/Users/konstantinkobs/code/2022-dml-rrr/venv/lib/python3.9/site-packages/tqdm/auto.py:22: TqdmWarning: IProgress not found. Please update jupyter and ipywidgets. See https://ipywidgets.readthedocs.io/en/stable/user_install.html\n",
      "  from .autonotebook import tqdm as notebook_tqdm\n"
     ]
    }
   ],
   "source": [
    "from glob import glob\n",
    "import torch\n",
    "import numpy as np\n",
    "import pandas as pd\n",
    "from collections import defaultdict\n",
    "import pyperclip\n",
    "from IPython.display import display"
   ]
  },
  {
   "cell_type": "code",
   "execution_count": 2,
   "metadata": {},
   "outputs": [],
   "source": [
    "files = glob(\"../attention_scores/*.pt\")"
   ]
  },
  {
   "cell_type": "code",
   "execution_count": 3,
   "metadata": {},
   "outputs": [],
   "source": [
    "data = {\n",
    "    name.split(\"/\")[-1][:-len(\"_attention_scores.pt\")]: torch.load(file, map_location=torch.device(\"cpu\")) for name, file in zip(files, files)\n",
    "}"
   ]
  },
  {
   "cell_type": "code",
   "execution_count": 4,
   "metadata": {},
   "outputs": [
    {
     "name": "stdout",
     "output_type": "stream",
     "text": [
      "sop_triplet: 0.07630966603755951 ± 0.166406512260437\n",
      "sop_arcface_bgaugment: 0.2630470395088196 ± 0.17031726241111755\n",
      "sop_multi_similarity: 0.10582640022039413 ± 0.1666542887687683\n",
      "cub200_contrastive: 0.25125518441200256 ± 0.07829434424638748\n",
      "cub200_multi_similarity_bgaugment: 0.3008742332458496 ± 0.08911897987127304\n",
      "cub200_triplet_bgaugment: 0.3331263065338135 ± 0.08869130909442902\n",
      "cub200_arcface_bgaugment: 0.33048489689826965 ± 0.08743953704833984\n",
      "sop_contrastive: 0.06592631340026855 ± 0.161154642701149\n",
      "cars196_arcface: 0.49305522441864014 ± 0.10359616577625275\n",
      "cub200_contrastive_bgaugment: 0.31729617714881897 ± 0.09799978882074356\n",
      "sop_triplet_bgaugment: 0.2613093852996826 ± 0.21540816128253937\n",
      "cub200_triplet: 0.24188195168972015 ± 0.07588318735361099\n",
      "sop_normalized_softmax_bgaugment: 0.27669450640678406 ± 0.20232805609703064\n",
      "cars196_normalized_softmax_bgaugment: 0.5624029040336609 ± 0.08931033313274384\n",
      "cub200_normalized_softmax_bgaugment: 0.29977938532829285 ± 0.0837075263261795\n",
      "cub200_multi_similarity: 0.25923311710357666 ± 0.0810488909482956\n",
      "cars196_multi_similarity: 0.5178196430206299 ± 0.08960049599409103\n",
      "sop_arcface: 0.13224227726459503 ± 0.13709098100662231\n",
      "sop_multi_similarity_bgaugment: 0.280298113822937 ± 0.19424232840538025\n",
      "cars196_multi_similarity_bgaugment: 0.4997628927230835 ± 0.0887579545378685\n",
      "sop_normalized_softmax: 0.12470003217458725 ± 0.1369360238313675\n",
      "cars196_arcface_bgaugment: 0.5631922483444214 ± 0.09852572530508041\n",
      "cars196_triplet: 0.5034377574920654 ± 0.09056053310632706\n",
      "cars196_normalized_softmax: 0.5125957131385803 ± 0.09003695845603943\n",
      "cub200_normalized_softmax: 0.24259322881698608 ± 0.07862294465303421\n",
      "sop_contrastive_bgaugment: 0.30922606587409973 ± 0.20352552831172943\n",
      "cars196_triplet_bgaugment: 0.5444273948669434 ± 0.08906210958957672\n",
      "cars196_contrastive: 0.5045616626739502 ± 0.09039908647537231\n",
      "cub200_arcface: 0.2464020848274231 ± 0.07745527476072311\n",
      "cars196_contrastive_bgaugment: 0.5335999727249146 ± 0.10014131665229797\n"
     ]
    }
   ],
   "source": [
    "for name, d in data.items():\n",
    "    print(f\"{name}: {np.mean(d)} ± {np.std(d)}\")"
   ]
  },
  {
   "cell_type": "code",
   "execution_count": 5,
   "metadata": {},
   "outputs": [],
   "source": [
    "table = defaultdict(dict)\n",
    "\n",
    "for name, d in data.items():\n",
    "    dataset_name = name.split(\"_\")[0]\n",
    "    model_name = \" \".join(name.split(\"_\")[1:])\n",
    "    table[dataset_name][model_name] = f\"{np.mean(d):.2f} ± {np.std(d):.2f}\"\n",
    "\n",
    "table = pd.DataFrame(table)\n",
    "table = table[sorted(table.columns)]\n",
    "table.sort_index(inplace=True)"
   ]
  },
  {
   "cell_type": "code",
   "execution_count": 6,
   "metadata": {},
   "outputs": [
    {
     "data": {
      "text/html": [
       "<div>\n",
       "<style scoped>\n",
       "    .dataframe tbody tr th:only-of-type {\n",
       "        vertical-align: middle;\n",
       "    }\n",
       "\n",
       "    .dataframe tbody tr th {\n",
       "        vertical-align: top;\n",
       "    }\n",
       "\n",
       "    .dataframe thead th {\n",
       "        text-align: right;\n",
       "    }\n",
       "</style>\n",
       "<table border=\"1\" class=\"dataframe\">\n",
       "  <thead>\n",
       "    <tr style=\"text-align: right;\">\n",
       "      <th></th>\n",
       "      <th>cars196</th>\n",
       "      <th>cub200</th>\n",
       "      <th>sop</th>\n",
       "    </tr>\n",
       "  </thead>\n",
       "  <tbody>\n",
       "    <tr>\n",
       "      <th>arcface</th>\n",
       "      <td>0.49 ± 0.10</td>\n",
       "      <td>0.25 ± 0.08</td>\n",
       "      <td>0.13 ± 0.14</td>\n",
       "    </tr>\n",
       "    <tr>\n",
       "      <th>arcface bgaugment</th>\n",
       "      <td>0.56 ± 0.10</td>\n",
       "      <td>0.33 ± 0.09</td>\n",
       "      <td>0.26 ± 0.17</td>\n",
       "    </tr>\n",
       "    <tr>\n",
       "      <th>contrastive</th>\n",
       "      <td>0.50 ± 0.09</td>\n",
       "      <td>0.25 ± 0.08</td>\n",
       "      <td>0.07 ± 0.16</td>\n",
       "    </tr>\n",
       "    <tr>\n",
       "      <th>contrastive bgaugment</th>\n",
       "      <td>0.53 ± 0.10</td>\n",
       "      <td>0.32 ± 0.10</td>\n",
       "      <td>0.31 ± 0.20</td>\n",
       "    </tr>\n",
       "    <tr>\n",
       "      <th>multi similarity</th>\n",
       "      <td>0.52 ± 0.09</td>\n",
       "      <td>0.26 ± 0.08</td>\n",
       "      <td>0.11 ± 0.17</td>\n",
       "    </tr>\n",
       "    <tr>\n",
       "      <th>multi similarity bgaugment</th>\n",
       "      <td>0.50 ± 0.09</td>\n",
       "      <td>0.30 ± 0.09</td>\n",
       "      <td>0.28 ± 0.19</td>\n",
       "    </tr>\n",
       "    <tr>\n",
       "      <th>normalized softmax</th>\n",
       "      <td>0.51 ± 0.09</td>\n",
       "      <td>0.24 ± 0.08</td>\n",
       "      <td>0.12 ± 0.14</td>\n",
       "    </tr>\n",
       "    <tr>\n",
       "      <th>normalized softmax bgaugment</th>\n",
       "      <td>0.56 ± 0.09</td>\n",
       "      <td>0.30 ± 0.08</td>\n",
       "      <td>0.28 ± 0.20</td>\n",
       "    </tr>\n",
       "    <tr>\n",
       "      <th>triplet</th>\n",
       "      <td>0.50 ± 0.09</td>\n",
       "      <td>0.24 ± 0.08</td>\n",
       "      <td>0.08 ± 0.17</td>\n",
       "    </tr>\n",
       "    <tr>\n",
       "      <th>triplet bgaugment</th>\n",
       "      <td>0.54 ± 0.09</td>\n",
       "      <td>0.33 ± 0.09</td>\n",
       "      <td>0.26 ± 0.22</td>\n",
       "    </tr>\n",
       "  </tbody>\n",
       "</table>\n",
       "</div>"
      ],
      "text/plain": [
       "                                  cars196       cub200          sop\n",
       "arcface                       0.49 ± 0.10  0.25 ± 0.08  0.13 ± 0.14\n",
       "arcface bgaugment             0.56 ± 0.10  0.33 ± 0.09  0.26 ± 0.17\n",
       "contrastive                   0.50 ± 0.09  0.25 ± 0.08  0.07 ± 0.16\n",
       "contrastive bgaugment         0.53 ± 0.10  0.32 ± 0.10  0.31 ± 0.20\n",
       "multi similarity              0.52 ± 0.09  0.26 ± 0.08  0.11 ± 0.17\n",
       "multi similarity bgaugment    0.50 ± 0.09  0.30 ± 0.09  0.28 ± 0.19\n",
       "normalized softmax            0.51 ± 0.09  0.24 ± 0.08  0.12 ± 0.14\n",
       "normalized softmax bgaugment  0.56 ± 0.09  0.30 ± 0.08  0.28 ± 0.20\n",
       "triplet                       0.50 ± 0.09  0.24 ± 0.08  0.08 ± 0.17\n",
       "triplet bgaugment             0.54 ± 0.09  0.33 ± 0.09  0.26 ± 0.22"
      ]
     },
     "execution_count": 6,
     "metadata": {},
     "output_type": "execute_result"
    }
   ],
   "source": [
    "table"
   ]
  },
  {
   "cell_type": "code",
   "execution_count": 8,
   "metadata": {},
   "outputs": [
    {
     "name": "stderr",
     "output_type": "stream",
     "text": [
      "/var/folders/2z/pjh7qn1s3j7fyz757_8k9l5c0000gn/T/ipykernel_24830/390789821.py:1: FutureWarning: In future versions `DataFrame.to_latex` is expected to utilise the base implementation of `Styler.to_latex` for formatting and rendering. The arguments signature may therefore change. It is recommended instead to use `DataFrame.style.to_latex` which also contains additional functionality.\n",
      "  pyperclip.copy(table.to_latex(header=[\"Cars196\", \"CUB200\", \"SOP\"], column_format=\"lccc\"))\n"
     ]
    }
   ],
   "source": [
    "pyperclip.copy(table.to_latex(header=[\"Cars196\", \"CUB200\", \"SOP\"], column_format=\"lccc\"))"
   ]
  },
  {
   "cell_type": "code",
   "execution_count": null,
   "metadata": {},
   "outputs": [],
   "source": []
  }
 ],
 "metadata": {
  "kernelspec": {
   "display_name": "Python 3.9.13 ('venv': venv)",
   "language": "python",
   "name": "python3"
  },
  "language_info": {
   "codemirror_mode": {
    "name": "ipython",
    "version": 3
   },
   "file_extension": ".py",
   "mimetype": "text/x-python",
   "name": "python",
   "nbconvert_exporter": "python",
   "pygments_lexer": "ipython3",
   "version": "3.9.13"
  },
  "orig_nbformat": 4,
  "vscode": {
   "interpreter": {
    "hash": "c24ef1efc729f6ec82f1d562e3310eb9fa23f6553af8e7902a36ac6a1d43ca2e"
   }
  }
 },
 "nbformat": 4,
 "nbformat_minor": 2
}
