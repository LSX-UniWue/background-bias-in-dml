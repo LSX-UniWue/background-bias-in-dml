{
 "cells": [
  {
   "cell_type": "code",
   "execution_count": 1,
   "metadata": {},
   "outputs": [
    {
     "name": "stderr",
     "output_type": "stream",
     "text": [
      "/Users/konstantinkobs/code/2022-dml-rrr/venv/lib/python3.9/site-packages/tqdm/auto.py:22: TqdmWarning: IProgress not found. Please update jupyter and ipywidgets. See https://ipywidgets.readthedocs.io/en/stable/user_install.html\n",
      "  from .autonotebook import tqdm as notebook_tqdm\n"
     ]
    }
   ],
   "source": [
    "import sys\n",
    "sys.path.append(\"..\")\n",
    "\n",
    "import numpy as np\n",
    "from tqdm import tqdm\n",
    "from src.datamodules.cars196 import Cars196\n",
    "from src.datamodules.cub200 import Cub200\n",
    "from src.datamodules.stanford_online_products import StanfordOnlineProducts\n",
    "from glob import glob\n",
    "from PIL import Image"
   ]
  },
  {
   "cell_type": "code",
   "execution_count": 88,
   "metadata": {},
   "outputs": [],
   "source": [
    "# dataset_name = \"cars196\"\n",
    "dataset_name = \"cub200\"\n",
    "# dataset_name = \"sop\"\n",
    "\n",
    "datasets = {\n",
    "    \"cars196\": Cars196,\n",
    "    \"cub200\": Cub200,\n",
    "    \"sop\": StanfordOnlineProducts\n",
    "}\n",
    "\n",
    "dataset = datasets[dataset_name](root=\"../data\", mode=\"test\")"
   ]
  },
  {
   "cell_type": "code",
   "execution_count": 57,
   "metadata": {},
   "outputs": [],
   "source": [
    "np.random.seed(len(dataset))"
   ]
  },
  {
   "cell_type": "code",
   "execution_count": 58,
   "metadata": {},
   "outputs": [],
   "source": [
    "indices = np.arange(len(dataset))\n",
    "np.random.shuffle(indices)\n",
    "indices = indices[:20]"
   ]
  },
  {
   "cell_type": "code",
   "execution_count": 59,
   "metadata": {},
   "outputs": [
    {
     "data": {
      "text/plain": [
       "array([11413, 45579, 27648, 16805, 30467,  5557, 12607, 49446, 30694,\n",
       "       39827, 32396, 57697, 51035, 57649, 26907, 18776, 35631, 14986,\n",
       "       20979, 10120])"
      ]
     },
     "execution_count": 59,
     "metadata": {},
     "output_type": "execute_result"
    }
   ],
   "source": [
    "indices"
   ]
  },
  {
   "cell_type": "code",
   "execution_count": 60,
   "metadata": {},
   "outputs": [
    {
     "name": "stderr",
     "output_type": "stream",
     "text": [
      "100%|██████████| 20/20 [00:00<00:00, 56.68it/s]\n"
     ]
    }
   ],
   "source": [
    "for i in tqdm(indices):\n",
    "    item = dataset[i]\n",
    "    item[\"inputs\"].save(f\"gt_masks/{dataset_name}/{i}_image.jpeg\")\n",
    "    item[\"masks\"].save(f\"gt_masks/{dataset_name}/{i}_mask_pred.png\")"
   ]
  },
  {
   "cell_type": "markdown",
   "metadata": {},
   "source": [
    "# Compute metrics between ground truth and predicted masks"
   ]
  },
  {
   "cell_type": "code",
   "execution_count": 7,
   "metadata": {},
   "outputs": [],
   "source": [
    "# dataset_name = \"cars196\"\n",
    "dataset_name = \"cub200\"\n",
    "# dataset_name = \"sop\""
   ]
  },
  {
   "cell_type": "code",
   "execution_count": 8,
   "metadata": {},
   "outputs": [],
   "source": [
    "def scoring(mask, mask_pred):\n",
    "    # binarize input\n",
    "    mask[mask < 128] = 0\n",
    "    mask[mask >= 128] = 1\n",
    "\n",
    "    # binarize prediction\n",
    "    mask_pred[mask_pred < 128] = 0\n",
    "    mask_pred[mask_pred >= 128] = 1\n",
    "\n",
    "    s = {}\n",
    "    \n",
    "    # intersection over union\n",
    "    intersection = np.logical_and(mask, mask_pred)\n",
    "    union = np.logical_or(mask, mask_pred)\n",
    "    s[\"IoU\"] = np.sum(intersection) / np.sum(union)\n",
    "\n",
    "    # overlap\n",
    "    s[\"overlap\"] = np.sum(intersection) / np.sum(mask)\n",
    "\n",
    "    return s"
   ]
  },
  {
   "cell_type": "code",
   "execution_count": 9,
   "metadata": {},
   "outputs": [],
   "source": [
    "images = sorted(glob(f\"gt_masks/{dataset_name}/*_image.jpeg\"))\n",
    "masks_pred = sorted(glob(f\"gt_masks/{dataset_name}/*_mask_pred.png\"))\n",
    "masks = sorted(glob(f\"gt_masks/{dataset_name}/*_mask.png\"))"
   ]
  },
  {
   "cell_type": "code",
   "execution_count": 10,
   "metadata": {},
   "outputs": [],
   "source": [
    "scores = []\n",
    "\n",
    "for image, mask_pred, mask in zip(images, masks_pred, masks):\n",
    "    mask_pred = Image.open(mask_pred).convert(\"L\")\n",
    "    mask = Image.open(mask).convert(\"L\")\n",
    "    mask = np.array(mask)\n",
    "    mask_pred = np.array(mask_pred)\n",
    "    score = scoring(np.array(mask), np.array(mask_pred))\n",
    "    scores.append(score)"
   ]
  },
  {
   "cell_type": "code",
   "execution_count": 11,
   "metadata": {},
   "outputs": [
    {
     "name": "stdout",
     "output_type": "stream",
     "text": [
      "IoU\n",
      " mean: 0.8365447716208436, std: 0.22877790151204158, min: 0.0, max: 0.9663508858267716, median: 0.9211384771344702, q25: 0.8735145610769534, q75: 0.9447039241369721\n",
      "overlap\n",
      " mean: 0.9206427562342332, std: 0.21488953374428002, min: 0.0, max: 0.999605730056512, median: 0.9790142667445486, q25: 0.9641976595811851, q75: 0.9866641434030051\n"
     ]
    }
   ],
   "source": [
    "for score_name in scores[0].keys():\n",
    "    s = [s[score_name] for s in scores]\n",
    "    print(f\"{score_name}\\n mean: {np.mean(s)}, std: {np.std(s)}, min: {np.min(s)}, max: {np.max(s)}, median: {np.median(s)}, q25: {np.percentile(s, 25)}, q75: {np.percentile(s, 75)}\")\n"
   ]
  },
  {
   "cell_type": "code",
   "execution_count": null,
   "metadata": {},
   "outputs": [],
   "source": []
  }
 ],
 "metadata": {
  "interpreter": {
   "hash": "b7a1c24f20eebafeb6965eaac74b19455f55cadbfc224c04cd2010f1183bd915"
  },
  "kernelspec": {
   "display_name": "Python 3.9.12 ('venv': venv)",
   "language": "python",
   "name": "python3"
  },
  "language_info": {
   "codemirror_mode": {
    "name": "ipython",
    "version": 3
   },
   "file_extension": ".py",
   "mimetype": "text/x-python",
   "name": "python",
   "nbconvert_exporter": "python",
   "pygments_lexer": "ipython3",
   "version": "3.9.13"
  },
  "orig_nbformat": 4
 },
 "nbformat": 4,
 "nbformat_minor": 2
}
